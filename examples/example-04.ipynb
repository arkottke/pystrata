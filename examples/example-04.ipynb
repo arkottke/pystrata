{
 "cells": [
  {
   "cell_type": "markdown",
   "metadata": {},
   "source": [
    "# Example 4: Simulated site profile\n",
    "\n",
    "Generate simulated shear-wave velocity profiles."
   ]
  },
  {
   "cell_type": "code",
   "execution_count": null,
   "metadata": {
    "tags": []
   },
   "outputs": [],
   "source": [
    "import matplotlib.pyplot as plt\n",
    "\n",
    "import pystrata\n",
    "\n",
    "%matplotlib inline"
   ]
  },
  {
   "cell_type": "code",
   "execution_count": null,
   "metadata": {},
   "outputs": [],
   "source": [
    "# Increased figure sizes\n",
    "plt.rcParams[\"figure.dpi\"] = 120"
   ]
  },
  {
   "cell_type": "markdown",
   "metadata": {},
   "source": [
    "Create a simple site profile"
   ]
  },
  {
   "cell_type": "code",
   "execution_count": null,
   "metadata": {},
   "outputs": [],
   "source": [
    "profile = pystrata.site.Profile(\n",
    "    [\n",
    "        pystrata.site.Layer(\n",
    "            pystrata.site.SoilType(\"Soil-1\", 18.0, None, 0.05), 30, 400\n",
    "        ),\n",
    "        pystrata.site.Layer(\n",
    "            pystrata.site.SoilType(\"Soil-2\", 19.0, None, 0.05), 20, 600\n",
    "        ),\n",
    "        pystrata.site.Layer(pystrata.site.SoilType(\"Rock\", 24.0, None, 0.01), 0, 1200),\n",
    "    ]\n",
    ")"
   ]
  },
  {
   "cell_type": "markdown",
   "metadata": {},
   "source": [
    "Initialize the variations."
   ]
  },
  {
   "cell_type": "code",
   "execution_count": null,
   "metadata": {},
   "outputs": [],
   "source": [
    "toro_thickness = pystrata.variation.ToroThicknessVariation()\n",
    "toro_velocity = pystrata.variation.ToroVelocityVariation.generic_model(\"USGS B\")"
   ]
  },
  {
   "cell_type": "markdown",
   "metadata": {},
   "source": [
    "Create the varied thickness and velocity."
   ]
  },
  {
   "cell_type": "code",
   "execution_count": null,
   "metadata": {},
   "outputs": [],
   "source": [
    "%pdb"
   ]
  },
  {
   "cell_type": "code",
   "execution_count": null,
   "metadata": {},
   "outputs": [],
   "source": [
    "count = 10\n",
    "# Create realizations of the profile with varied thickness\n",
    "varied_thick = [toro_thickness(profile) for _ in range(count)]\n",
    "\n",
    "# For eaach realization of varied thickness, vary the shear-wave velocity\n",
    "varied_vel = [toro_velocity(rt) for rt in varied_thick]"
   ]
  },
  {
   "cell_type": "markdown",
   "metadata": {},
   "source": [
    "Create a plot of the varied velocity models."
   ]
  },
  {
   "cell_type": "code",
   "execution_count": null,
   "metadata": {},
   "outputs": [],
   "source": [
    "fig, ax = plt.subplots()\n",
    "\n",
    "for profile in varied_vel:\n",
    "    ax.plot(\n",
    "        [layer.initial_shear_vel for layer in profile],\n",
    "        [layer.depth for layer in profile],\n",
    "        drawstyle=\"steps-pre\",\n",
    "    )\n",
    "\n",
    "ax.set(xlabel=\"$V_s$ (m/s)\", xscale=\"log\", ylabel=\"Depth (m)\", ylim=(55, 0))\n",
    "\n",
    "ax.grid()\n",
    "fig.tight_layout();"
   ]
  },
  {
   "cell_type": "markdown",
   "metadata": {},
   "source": [
    "## Example of varying bedrock depth"
   ]
  },
  {
   "cell_type": "markdown",
   "metadata": {},
   "source": [
    "### Setup"
   ]
  },
  {
   "cell_type": "code",
   "execution_count": null,
   "metadata": {},
   "outputs": [],
   "source": [
    "# Import to specify distribution of bedrock depth\n",
    "from scipy.stats import uniform"
   ]
  },
  {
   "cell_type": "code",
   "execution_count": null,
   "metadata": {
    "tags": []
   },
   "outputs": [],
   "source": [
    "# Parameters for distribution of bedrock depth\n",
    "depth_bedrock = 50\n",
    "depth_bedrock_min = 40\n",
    "depth_bedrock_max = 65\n",
    "uniform_dist_loc = depth_bedrock_min\n",
    "uniform_dist_scale = depth_bedrock_max - depth_bedrock_min\n",
    "uniform_dist = uniform(loc=uniform_dist_loc, scale=uniform_dist_scale)"
   ]
  },
  {
   "cell_type": "code",
   "execution_count": null,
   "metadata": {
    "tags": []
   },
   "outputs": [],
   "source": [
    "# Parameters for distribution of velocities\n",
    "PARAMS = {\n",
    "    \"USGS B\": { # To be consistent with example above\n",
    "            \"ln_std\": 0.27,\n",
    "            \"rho_0\": 0.97,\n",
    "            \"delta\": 3.8,\n",
    "            \"rho_200\": 1.00,\n",
    "            \"h_0\": 0.0,\n",
    "            \"b\": 0.293,\n",
    "        }\n",
    "}"
   ]
  },
  {
   "cell_type": "markdown",
   "metadata": {},
   "source": [
    "### Initialize instances of classes for randomizing profiles"
   ]
  },
  {
   "cell_type": "code",
   "execution_count": null,
   "metadata": {
    "tags": []
   },
   "outputs": [],
   "source": [
    "var_bedrock = pystrata.variation.HalfSpaceDepthVariation(dist=uniform_dist)"
   ]
  },
  {
   "cell_type": "code",
   "execution_count": null,
   "metadata": {
    "tags": []
   },
   "outputs": [],
   "source": [
    "var_thickness = pystrata.variation.ToroThicknessVariation()"
   ]
  },
  {
   "cell_type": "code",
   "execution_count": null,
   "metadata": {
    "tags": []
   },
   "outputs": [],
   "source": [
    "var_velocity = pystrata.variation.ToroVelocityVariation(\n",
    "    ln_std=PARAMS[\"USGS B\"][\"ln_std\"],\n",
    "    rho_0=PARAMS[\"USGS B\"][\"rho_0\"],\n",
    "    delta=PARAMS[\"USGS B\"][\"delta\"],\n",
    "    rho_200=PARAMS[\"USGS B\"][\"rho_200\"],\n",
    "    h_0=PARAMS[\"USGS B\"][\"h_0\"],\n",
    "    b=PARAMS[\"USGS B\"][\"b\"],\n",
    "    vary_bedrock=True # Enable variation of bedrock depth\n",
    ")"
   ]
  },
  {
   "cell_type": "markdown",
   "metadata": {},
   "source": [
    "### Randomize soil profiles"
   ]
  },
  {
   "cell_type": "code",
   "execution_count": null,
   "metadata": {
    "tags": []
   },
   "outputs": [],
   "source": [
    "num_sim = 3\n",
    "\n",
    "# Create realizations of the profile with varied bedrock depths\n",
    "varied_depths = [var_bedrock(profile) for _ in range(num_sim)]\n",
    "\n",
    "# For each realization of varied depth, vary the thicknesses\n",
    "varied_thicknesses = [var_thickness(rd) for rd in varied_depths]\n",
    "\n",
    "# For each realization of varied thicknesses, vary the velocities\n",
    "varied_velocities = [var_velocity(rt) for rt in varied_thicknesses]"
   ]
  },
  {
   "cell_type": "markdown",
   "metadata": {},
   "source": [
    "### Plot randomized profiles"
   ]
  },
  {
   "cell_type": "code",
   "execution_count": null,
   "metadata": {
    "tags": []
   },
   "outputs": [],
   "source": [
    "fig, ax = plt.subplots()\n",
    "\n",
    "for profile in varied_velocities:\n",
    "    ax.plot(\n",
    "        [layer.initial_shear_vel for layer in profile],\n",
    "        [layer.depth for layer in profile],\n",
    "        drawstyle=\"steps-pre\",\n",
    "    )\n",
    "\n",
    "ax.invert_yaxis()\n",
    "ax.set(xlabel=\"$V_s$ (m/s)\", xscale=\"log\", ylabel=\"Depth (m)\")\n",
    "\n",
    "ax.grid()\n",
    "fig.tight_layout();"
   ]
  },
  {
   "cell_type": "code",
   "execution_count": null,
   "metadata": {},
   "outputs": [],
   "source": []
  }
 ],
 "metadata": {
  "kernelspec": {
   "display_name": "Python 3 (ipykernel)",
   "language": "python",
   "name": "python3"
  },
  "language_info": {
   "codemirror_mode": {
    "name": "ipython",
    "version": 3
   },
   "file_extension": ".py",
   "mimetype": "text/x-python",
   "name": "python",
   "nbconvert_exporter": "python",
   "pygments_lexer": "ipython3",
   "version": "3.11.5"
  }
 },
 "nbformat": 4,
 "nbformat_minor": 4
}
