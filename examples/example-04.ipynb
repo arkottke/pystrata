{
 "cells": [
  {
   "cell_type": "markdown",
   "metadata": {},
   "source": [
    "# Example 4: Simulated site profile\n",
    "\n",
    "Generate simulated shear-wave velocity profiles."
   ]
  },
  {
   "cell_type": "code",
   "execution_count": 1,
   "metadata": {
    "execution": {
     "iopub.execute_input": "2022-06-14T17:52:36.665175Z",
     "iopub.status.busy": "2022-06-14T17:52:36.664725Z",
     "iopub.status.idle": "2022-06-14T17:52:38.547571Z",
     "shell.execute_reply": "2022-06-14T17:52:38.546930Z"
    }
   },
   "outputs": [],
   "source": [
    "import matplotlib.pyplot as plt\n",
    "import numpy as np\n",
    "\n",
    "import pystrata\n",
    "\n",
    "%matplotlib inline"
   ]
  },
  {
   "cell_type": "code",
   "execution_count": 2,
   "metadata": {
    "execution": {
     "iopub.execute_input": "2022-06-14T17:52:38.551693Z",
     "iopub.status.busy": "2022-06-14T17:52:38.551437Z",
     "iopub.status.idle": "2022-06-14T17:52:38.554799Z",
     "shell.execute_reply": "2022-06-14T17:52:38.554225Z"
    }
   },
   "outputs": [],
   "source": [
    "# Increased figure sizes\n",
    "plt.rcParams[\"figure.dpi\"] = 120"
   ]
  },
  {
   "cell_type": "markdown",
   "metadata": {},
   "source": [
    "Create a simple site profile"
   ]
  },
  {
   "cell_type": "code",
   "execution_count": 3,
   "metadata": {
    "execution": {
     "iopub.execute_input": "2022-06-14T17:52:38.557103Z",
     "iopub.status.busy": "2022-06-14T17:52:38.556924Z",
     "iopub.status.idle": "2022-06-14T17:52:38.561743Z",
     "shell.execute_reply": "2022-06-14T17:52:38.561170Z"
    }
   },
   "outputs": [],
   "source": [
    "profile = pystrata.site.Profile(\n",
    "    [\n",
    "        pystrata.site.Layer(pystrata.site.SoilType(\"Soil-1\", 18.0, None, 0.05), 30, 400),\n",
    "        pystrata.site.Layer(pystrata.site.SoilType(\"Soil-2\", 19.0, None, 0.05), 20, 600),\n",
    "        pystrata.site.Layer(pystrata.site.SoilType(\"Rock\", 24.0, None, 0.01), 0, 1200),\n",
    "    ]\n",
    ")"
   ]
  },
  {
   "cell_type": "markdown",
   "metadata": {},
   "source": [
    "Initialize the variations."
   ]
  },
  {
   "cell_type": "code",
   "execution_count": 4,
   "metadata": {
    "execution": {
     "iopub.execute_input": "2022-06-14T17:52:38.564162Z",
     "iopub.status.busy": "2022-06-14T17:52:38.563889Z",
     "iopub.status.idle": "2022-06-14T17:52:38.567532Z",
     "shell.execute_reply": "2022-06-14T17:52:38.566953Z"
    }
   },
   "outputs": [],
   "source": [
    "toro_thickness = pystrata.variation.ToroThicknessVariation()\n",
    "toro_velocity = pystrata.variation.ToroVelocityVariation.generic_model(\"USGS B\")"
   ]
  },
  {
   "cell_type": "markdown",
   "metadata": {},
   "source": [
    "Create the varied thickness and velocity."
   ]
  },
  {
   "cell_type": "code",
   "execution_count": 5,
   "metadata": {
    "execution": {
     "iopub.execute_input": "2022-06-14T17:52:38.569992Z",
     "iopub.status.busy": "2022-06-14T17:52:38.569716Z",
     "iopub.status.idle": "2022-06-14T17:52:38.580075Z",
     "shell.execute_reply": "2022-06-14T17:52:38.579380Z"
    }
   },
   "outputs": [],
   "source": [
    "count = 10\n",
    "# Create realizations of the profile with varied thickness\n",
    "varied_thick = [toro_thickness(profile) for _ in range(count)]\n",
    "\n",
    "# For eaach realization of varied thickness, vary the shear-wave velocity\n",
    "varied_vel = [toro_velocity(rt) for rt in varied_thick]"
   ]
  },
  {
   "cell_type": "markdown",
   "metadata": {},
   "source": [
    "Create a plot of the varied velocity models."
   ]
  },
  {
   "cell_type": "code",
   "execution_count": 6,
   "metadata": {
    "execution": {
     "iopub.execute_input": "2022-06-14T17:52:38.582528Z",
     "iopub.status.busy": "2022-06-14T17:52:38.582347Z",
     "iopub.status.idle": "2022-06-14T17:52:39.216755Z",
     "shell.execute_reply": "2022-06-14T17:52:39.216121Z"
    }
   },
   "outputs": [
    {
     "data": {
      "image/png": "[encoded data removed]",
      "text/plain": [
       "<Figure size 720x480 with 1 Axes>"
      ]
     },
     "metadata": {
      "needs_background": "light"
     },
     "output_type": "display_data"
    }
   ],
   "source": [
    "fig, ax = plt.subplots()\n",
    "\n",
    "for p in varied_vel:\n",
    "    ax.plot(\n",
    "        [l.initial_shear_vel for l in p], [l.depth for l in p], drawstyle=\"steps-pre\"\n",
    "    )\n",
    "\n",
    "ax.set(xlabel=\"$V_s$ (m/s)\", xscale=\"log\", ylabel=\"Depth (m)\", ylim=(55, 0))\n",
    "\n",
    "ax.grid()\n",
    "fig.tight_layout();"
   ]
  }
 ],
 "metadata": {
  "kernelspec": {
   "display_name": "Python 3",
   "language": "python",
   "name": "python3"
  },
  "language_info": {
   "codemirror_mode": {
    "name": "ipython",
    "version": 3
   },
   "file_extension": ".py",
   "mimetype": "text/x-python",
   "name": "python",
   "nbconvert_exporter": "python",
   "pygments_lexer": "ipython3",
   "version": "3.9.12"
  },
  "toc": {
   "base_numbering": 1,
   "nav_menu": {},
   "number_sections": true,
   "sideBar": true,
   "skip_h1_title": false,
   "title_cell": "Table of Contents",
   "title_sidebar": "Contents",
   "toc_cell": false,
   "toc_position": {},
   "toc_section_display": true,
   "toc_window_display": false
  }
 },
 "nbformat": 4,
 "nbformat_minor": 4
}
