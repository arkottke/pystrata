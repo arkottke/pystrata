{
  "nbformat": 4,
  "nbformat_minor": 4,
  "metadata": {},
  "cells": [
    {
      "metadata": {},
      "source": [
        "# Example 10: Alternative RVT Peak Factor Calculators"
      ],
      "cell_type": "markdown"
    },
    {
      "metadata": {},
      "source": [
        "import itertools\n",
        "\n",
        "import matplotlib.pyplot as plt\n",
        "import numpy as np\n",
        "import pyrvt\n",
        "\n",
        "import pystrata\n",
        "\n",
        "%matplotlib inline"
      ],
      "cell_type": "code",
      "outputs": [],
      "execution_count": null
    },
    {
      "metadata": {},
      "source": [
        "# Increased figure sizes\n",
        "plt.rcParams[\"figure.dpi\"] = 120"
      ],
      "cell_type": "code",
      "outputs": [],
      "execution_count": null
    },
    {
      "metadata": {},
      "source": [
        "osc_freqs = np.logspace(-1, 2, num=91)"
      ],
      "cell_type": "code",
      "outputs": [],
      "execution_count": null
    },
    {
      "metadata": {},
      "source": [
        "peak_calcs = [\n",
        "    pyrvt.peak_calculators.CartwrightLonguetHiggins1956(),\n",
        "    pyrvt.peak_calculators.Vanmarcke1975(),\n",
        "]\n",
        "mags = [5, 6, 7]\n",
        "\n",
        "# Create CLH and V peak factor motions\n",
        "motions = [\n",
        "    pystrata.motion.SourceTheoryRvtMotion(\n",
        "        mag, 20, \"wna\", depth=8, stress_drop=100, peak_calculator=pc\n",
        "    )\n",
        "    for pc, mag in itertools.product(peak_calcs, mags)\n",
        "]\n",
        "\n",
        "# Create WR peak factor motions.\n",
        "motions += [\n",
        "    pystrata.motion.SourceTheoryRvtMotion(\n",
        "        mag,\n",
        "        20,\n",
        "        \"wna\",\n",
        "        depth=8,\n",
        "        stress_drop=100,\n",
        "        peak_calculator=pyrvt.peak_calculators.WangRathje2018(\"wna\", mag, 20),\n",
        "    )\n",
        "    for mag in mags\n",
        "]"
      ],
      "cell_type": "code",
      "outputs": [],
      "execution_count": null
    },
    {
      "metadata": {},
      "source": [
        "for m in motions:\n",
        "    m.calc_fourier_amps(freqs=np.logspace(-2, 2, 1024))"
      ],
      "cell_type": "code",
      "outputs": [],
      "execution_count": null
    },
    {
      "metadata": {},
      "source": [
        "fig, axes = plt.subplots(\n",
        "    ncols=2,\n",
        "    sharex=True,\n",
        "    sharey=False,\n",
        "    subplot_kw={\"xscale\": \"log\"},\n",
        "    figsize=(10, 6),\n",
        ")\n",
        "\n",
        "for m in motions:\n",
        "    osc_resps = m.calc_osc_accels(osc_freqs)\n",
        "    for ax in axes:\n",
        "        ax.plot(\n",
        "            osc_freqs, osc_resps, label=f\"M{m.magnitude}, {m.peak_calculator.ABBREV}\"\n",
        "        )\n",
        "\n",
        "axes[0].set(ylabel=\"5%-Damped, Spectral Accel. (g)\", yscale=\"linear\")\n",
        "axes[1].set(yscale=\"log\")\n",
        "plt.setp(axes, xlabel=\"Frequency (Hz)\")\n",
        "\n",
        "ax.legend()\n",
        "fig.tight_layout()"
      ],
      "cell_type": "code",
      "outputs": [
        {
          "ename": "AttributeError",
          "evalue": "module 'numpy' has no attribute 'trapezoid'",
          "output_type": "error",
          "traceback": [
            "\u001b[0;31m---------------------------------------------------------------------------\u001b[0m",
            "\u001b[0;31mKeyError\u001b[0m                                  Traceback (most recent call last)",
            "File \u001b[0;32m~/Documents/programs/pyrvt/src/pyrvt/peak_calculators.py:229\u001b[0m, in \u001b[0;36mSquaredSpectrum.moment\u001b[0;34m(self, num)\u001b[0m\n\u001b[1;32m    228\u001b[0m \u001b[38;5;28;01mtry\u001b[39;00m:\n\u001b[0;32m--> 229\u001b[0m     moment \u001b[38;5;241m=\u001b[39m \u001b[38;5;28;43mself\u001b[39;49m\u001b[38;5;241;43m.\u001b[39;49m\u001b[43m_moments\u001b[49m\u001b[43m[\u001b[49m\u001b[43mnum\u001b[49m\u001b[43m]\u001b[49m\n\u001b[1;32m    230\u001b[0m \u001b[38;5;28;01mexcept\u001b[39;00m \u001b[38;5;167;01mKeyError\u001b[39;00m:\n",
            "\u001b[0;31mKeyError\u001b[0m: 0",
            "\nDuring handling of the above exception, another exception occurred:\n",
            "\u001b[0;31mAttributeError\u001b[0m                            Traceback (most recent call last)",
            "Cell \u001b[0;32mIn[6], line 10\u001b[0m\n\u001b[1;32m      1\u001b[0m fig, axes \u001b[38;5;241m=\u001b[39m plt\u001b[38;5;241m.\u001b[39msubplots(\n\u001b[1;32m      2\u001b[0m     ncols\u001b[38;5;241m=\u001b[39m\u001b[38;5;241m2\u001b[39m,\n\u001b[1;32m      3\u001b[0m     sharex\u001b[38;5;241m=\u001b[39m\u001b[38;5;28;01mTrue\u001b[39;00m,\n\u001b[0;32m   (...)\u001b[0m\n\u001b[1;32m      6\u001b[0m     figsize\u001b[38;5;241m=\u001b[39m(\u001b[38;5;241m10\u001b[39m, \u001b[38;5;241m6\u001b[39m),\n\u001b[1;32m      7\u001b[0m )\n\u001b[1;32m      9\u001b[0m \u001b[38;5;28;01mfor\u001b[39;00m m \u001b[38;5;129;01min\u001b[39;00m motions:\n\u001b[0;32m---> 10\u001b[0m     osc_resps \u001b[38;5;241m=\u001b[39m \u001b[43mm\u001b[49m\u001b[38;5;241;43m.\u001b[39;49m\u001b[43mcalc_osc_accels\u001b[49m\u001b[43m(\u001b[49m\u001b[43mosc_freqs\u001b[49m\u001b[43m)\u001b[49m\n\u001b[1;32m     11\u001b[0m     \u001b[38;5;28;01mfor\u001b[39;00m ax \u001b[38;5;129;01min\u001b[39;00m axes:\n\u001b[1;32m     12\u001b[0m         ax\u001b[38;5;241m.\u001b[39mplot(\n\u001b[1;32m     13\u001b[0m             osc_freqs, osc_resps, label\u001b[38;5;241m=\u001b[39m\u001b[38;5;124mf\u001b[39m\u001b[38;5;124m\"\u001b[39m\u001b[38;5;124mM\u001b[39m\u001b[38;5;132;01m{\u001b[39;00mm\u001b[38;5;241m.\u001b[39mmagnitude\u001b[38;5;132;01m}\u001b[39;00m\u001b[38;5;124m, \u001b[39m\u001b[38;5;132;01m{\u001b[39;00mm\u001b[38;5;241m.\u001b[39mpeak_calculator\u001b[38;5;241m.\u001b[39mABBREV\u001b[38;5;132;01m}\u001b[39;00m\u001b[38;5;124m\"\u001b[39m\n\u001b[1;32m     14\u001b[0m         )\n",
            "File \u001b[0;32m~/Documents/programs/pyrvt/src/pyrvt/motions.py:257\u001b[0m, in \u001b[0;36mRvtMotion.calc_osc_accels\u001b[0;34m(self, osc_freqs, osc_damping, trans_func)\u001b[0m\n\u001b[1;32m    252\u001b[0m \u001b[38;5;28;01melse\u001b[39;00m:\n\u001b[1;32m    253\u001b[0m     site_tf \u001b[38;5;241m=\u001b[39m trans_func \u001b[38;5;241m=\u001b[39m np\u001b[38;5;241m.\u001b[39masarray(trans_func)\n\u001b[1;32m    255\u001b[0m resp \u001b[38;5;241m=\u001b[39m np\u001b[38;5;241m.\u001b[39marray(\n\u001b[1;32m    256\u001b[0m     [\n\u001b[0;32m--> 257\u001b[0m         \u001b[38;5;28;43mself\u001b[39;49m\u001b[38;5;241;43m.\u001b[39;49m\u001b[43mcalc_peak\u001b[49m\u001b[43m(\u001b[49m\n\u001b[1;32m    258\u001b[0m \u001b[43m            \u001b[49m\u001b[43mtrans_func\u001b[49m\u001b[43m \u001b[49m\u001b[38;5;241;43m*\u001b[39;49m\u001b[43m \u001b[49m\u001b[43mcalc_sdof_tf\u001b[49m\u001b[43m(\u001b[49m\u001b[38;5;28;43mself\u001b[39;49m\u001b[38;5;241;43m.\u001b[39;49m\u001b[43mfreqs\u001b[49m\u001b[43m,\u001b[49m\u001b[43m \u001b[49m\u001b[43mof\u001b[49m\u001b[43m,\u001b[49m\u001b[43m \u001b[49m\u001b[43mosc_damping\u001b[49m\u001b[43m)\u001b[49m\u001b[43m,\u001b[49m\n\u001b[1;32m    259\u001b[0m \u001b[43m            \u001b[49m\u001b[43mosc_freq\u001b[49m\u001b[38;5;241;43m=\u001b[39;49m\u001b[43mof\u001b[49m\u001b[43m,\u001b[49m\n\u001b[1;32m    260\u001b[0m \u001b[43m            \u001b[49m\u001b[43mosc_damping\u001b[49m\u001b[38;5;241;43m=\u001b[39;49m\u001b[43mosc_damping\u001b[49m\u001b[43m,\u001b[49m\n\u001b[1;32m    261\u001b[0m \u001b[43m            \u001b[49m\u001b[43msite_tf\u001b[49m\u001b[38;5;241;43m=\u001b[39;49m\u001b[43msite_tf\u001b[49m\u001b[43m,\u001b[49m\n\u001b[1;32m    262\u001b[0m \u001b[43m        \u001b[49m\u001b[43m)\u001b[49m\n\u001b[1;32m    263\u001b[0m         \u001b[38;5;28;01mfor\u001b[39;00m of \u001b[38;5;129;01min\u001b[39;00m osc_freqs\n\u001b[1;32m    264\u001b[0m     ]\n\u001b[1;32m    265\u001b[0m )\n\u001b[1;32m    267\u001b[0m \u001b[38;5;28;01mreturn\u001b[39;00m resp\n",
            "File \u001b[0;32m~/Documents/programs/pyrvt/src/pyrvt/motions.py:289\u001b[0m, in \u001b[0;36mRvtMotion.calc_peak\u001b[0;34m(self, transfer_func, **kwds)\u001b[0m\n\u001b[1;32m    286\u001b[0m \u001b[38;5;28;01melse\u001b[39;00m:\n\u001b[1;32m    287\u001b[0m     fourier_amps \u001b[38;5;241m=\u001b[39m np\u001b[38;5;241m.\u001b[39mabs(transfer_func) \u001b[38;5;241m*\u001b[39m \u001b[38;5;28mself\u001b[39m\u001b[38;5;241m.\u001b[39m_fourier_amps\n\u001b[0;32m--> 289\u001b[0m \u001b[38;5;28;01mreturn\u001b[39;00m \u001b[38;5;28;43mself\u001b[39;49m\u001b[38;5;241;43m.\u001b[39;49m\u001b[43mpeak_calculator\u001b[49m\u001b[43m(\u001b[49m\u001b[38;5;28;43mself\u001b[39;49m\u001b[38;5;241;43m.\u001b[39;49m\u001b[43m_duration\u001b[49m\u001b[43m,\u001b[49m\u001b[43m \u001b[49m\u001b[38;5;28;43mself\u001b[39;49m\u001b[38;5;241;43m.\u001b[39;49m\u001b[43m_freqs\u001b[49m\u001b[43m,\u001b[49m\u001b[43m \u001b[49m\u001b[43mfourier_amps\u001b[49m\u001b[43m,\u001b[49m\u001b[43m \u001b[49m\u001b[38;5;241;43m*\u001b[39;49m\u001b[38;5;241;43m*\u001b[39;49m\u001b[43mkwds\u001b[49m\u001b[43m)\u001b[49m[\n\u001b[1;32m    290\u001b[0m     \u001b[38;5;241m0\u001b[39m\n\u001b[1;32m    291\u001b[0m ]\n",
            "File \u001b[0;32m~/Documents/programs/pyrvt/src/pyrvt/peak_calculators.py:336\u001b[0m, in \u001b[0;36mCalculator.__call__\u001b[0;34m(self, duration, freqs, fourier_amps, **kwds)\u001b[0m\n\u001b[1;32m    312\u001b[0m \u001b[38;5;250m\u001b[39m\u001b[38;5;124;03m\"\"\"Compute the peak response.\u001b[39;00m\n\u001b[1;32m    313\u001b[0m \n\u001b[1;32m    314\u001b[0m \u001b[38;5;124;03mParameters\u001b[39;00m\n\u001b[0;32m   (...)\u001b[0m\n\u001b[1;32m    333\u001b[0m \n\u001b[1;32m    334\u001b[0m \u001b[38;5;124;03m\"\"\"\u001b[39;00m\n\u001b[1;32m    335\u001b[0m sspectrum \u001b[38;5;241m=\u001b[39m SquaredSpectrum(freqs, fourier_amps)\n\u001b[0;32m--> 336\u001b[0m peak_factor \u001b[38;5;241m=\u001b[39m \u001b[38;5;28;43mself\u001b[39;49m\u001b[38;5;241;43m.\u001b[39;49m\u001b[43m_calc_peak_factor\u001b[49m\u001b[43m(\u001b[49m\u001b[43mduration\u001b[49m\u001b[43m,\u001b[49m\u001b[43m \u001b[49m\u001b[43msspectrum\u001b[49m\u001b[43m,\u001b[49m\u001b[43m \u001b[49m\u001b[38;5;241;43m*\u001b[39;49m\u001b[38;5;241;43m*\u001b[39;49m\u001b[43mkwds\u001b[49m\u001b[43m)\u001b[49m\n\u001b[1;32m    337\u001b[0m duration_rms \u001b[38;5;241m=\u001b[39m \u001b[38;5;28mself\u001b[39m\u001b[38;5;241m.\u001b[39m_calc_duration_rms(duration, sspectrum, \u001b[38;5;241m*\u001b[39m\u001b[38;5;241m*\u001b[39mkwds)\n\u001b[1;32m    338\u001b[0m \u001b[38;5;66;03m# Compute the root-mean-squared response.\u001b[39;00m\n",
            "File \u001b[0;32m~/Documents/programs/pyrvt/src/pyrvt/peak_calculators.py:790\u001b[0m, in \u001b[0;36mCartwrightLonguetHiggins1956._calc_peak_factor\u001b[0;34m(self, duration, sspectrum, **kwds)\u001b[0m\n\u001b[1;32m    769\u001b[0m \u001b[38;5;28;01mdef\u001b[39;00m \u001b[38;5;21m_calc_peak_factor\u001b[39m(\n\u001b[1;32m    770\u001b[0m     \u001b[38;5;28mself\u001b[39m, duration: \u001b[38;5;28mfloat\u001b[39m, sspectrum: SquaredSpectrum, \u001b[38;5;241m*\u001b[39m\u001b[38;5;241m*\u001b[39mkwds\n\u001b[1;32m    771\u001b[0m ) \u001b[38;5;241m-\u001b[39m\u001b[38;5;241m>\u001b[39m \u001b[38;5;28mfloat\u001b[39m:\n\u001b[1;32m    772\u001b[0m \u001b[38;5;250m    \u001b[39m\u001b[38;5;124;03m\"\"\"Compute the peak factor.\u001b[39;00m\n\u001b[1;32m    773\u001b[0m \n\u001b[1;32m    774\u001b[0m \u001b[38;5;124;03m    Parameters\u001b[39;00m\n\u001b[0;32m   (...)\u001b[0m\n\u001b[1;32m    788\u001b[0m \n\u001b[1;32m    789\u001b[0m \u001b[38;5;124;03m    \"\"\"\u001b[39;00m\n\u001b[0;32m--> 790\u001b[0m     m0, m2, m4 \u001b[38;5;241m=\u001b[39m \u001b[43msspectrum\u001b[49m\u001b[38;5;241;43m.\u001b[39;49m\u001b[43mmoments\u001b[49m\u001b[43m(\u001b[49m\u001b[38;5;241;43m0\u001b[39;49m\u001b[43m,\u001b[49m\u001b[43m \u001b[49m\u001b[38;5;241;43m2\u001b[39;49m\u001b[43m,\u001b[49m\u001b[43m \u001b[49m\u001b[38;5;241;43m4\u001b[39;49m\u001b[43m)\u001b[49m\n\u001b[1;32m    792\u001b[0m     bandwidth \u001b[38;5;241m=\u001b[39m np\u001b[38;5;241m.\u001b[39msqrt((m2 \u001b[38;5;241m*\u001b[39m m2) \u001b[38;5;241m/\u001b[39m (m0 \u001b[38;5;241m*\u001b[39m m4))\n\u001b[1;32m    793\u001b[0m     num_extrema \u001b[38;5;241m=\u001b[39m \u001b[38;5;28mmax\u001b[39m(\u001b[38;5;241m2.0\u001b[39m, np\u001b[38;5;241m.\u001b[39msqrt(m4 \u001b[38;5;241m/\u001b[39m m2) \u001b[38;5;241m*\u001b[39m duration \u001b[38;5;241m/\u001b[39m np\u001b[38;5;241m.\u001b[39mpi)\n",
            "File \u001b[0;32m~/Documents/programs/pyrvt/src/pyrvt/peak_calculators.py:246\u001b[0m, in \u001b[0;36mSquaredSpectrum.moments\u001b[0;34m(self, *nums)\u001b[0m\n\u001b[1;32m    238\u001b[0m \u001b[38;5;28;01mdef\u001b[39;00m \u001b[38;5;21mmoments\u001b[39m(\u001b[38;5;28mself\u001b[39m, \u001b[38;5;241m*\u001b[39mnums) \u001b[38;5;241m-\u001b[39m\u001b[38;5;241m>\u001b[39m \u001b[38;5;28mlist\u001b[39m[\u001b[38;5;28mfloat\u001b[39m]:\n\u001b[1;32m    239\u001b[0m \u001b[38;5;250m    \u001b[39m\u001b[38;5;124;03m\"\"\"Return the computed moments.\u001b[39;00m\n\u001b[1;32m    240\u001b[0m \n\u001b[1;32m    241\u001b[0m \u001b[38;5;124;03m    Returns\u001b[39;00m\n\u001b[0;32m   (...)\u001b[0m\n\u001b[1;32m    244\u001b[0m \u001b[38;5;124;03m        Computed spectral moments.\u001b[39;00m\n\u001b[1;32m    245\u001b[0m \u001b[38;5;124;03m    \"\"\"\u001b[39;00m\n\u001b[0;32m--> 246\u001b[0m     \u001b[38;5;28;01mreturn\u001b[39;00m [\u001b[38;5;28;43mself\u001b[39;49m\u001b[38;5;241;43m.\u001b[39;49m\u001b[43mmoment\u001b[49m\u001b[43m(\u001b[49m\u001b[43mn\u001b[49m\u001b[43m)\u001b[49m \u001b[38;5;28;01mfor\u001b[39;00m n \u001b[38;5;129;01min\u001b[39;00m nums]\n",
            "File \u001b[0;32m~/Documents/programs/pyrvt/src/pyrvt/peak_calculators.py:231\u001b[0m, in \u001b[0;36mSquaredSpectrum.moment\u001b[0;34m(self, num)\u001b[0m\n\u001b[1;32m    229\u001b[0m     moment \u001b[38;5;241m=\u001b[39m \u001b[38;5;28mself\u001b[39m\u001b[38;5;241m.\u001b[39m_moments[num]\n\u001b[1;32m    230\u001b[0m \u001b[38;5;28;01mexcept\u001b[39;00m \u001b[38;5;167;01mKeyError\u001b[39;00m:\n\u001b[0;32m--> 231\u001b[0m     moment \u001b[38;5;241m=\u001b[39m \u001b[38;5;241m2.0\u001b[39m \u001b[38;5;241m*\u001b[39m \u001b[43mnp\u001b[49m\u001b[38;5;241;43m.\u001b[39;49m\u001b[43mtrapezoid\u001b[49m(\n\u001b[1;32m    232\u001b[0m         np\u001b[38;5;241m.\u001b[39mpower(\u001b[38;5;241m2\u001b[39m \u001b[38;5;241m*\u001b[39m np\u001b[38;5;241m.\u001b[39mpi \u001b[38;5;241m*\u001b[39m \u001b[38;5;28mself\u001b[39m\u001b[38;5;241m.\u001b[39m_freqs, num) \u001b[38;5;241m*\u001b[39m \u001b[38;5;28mself\u001b[39m\u001b[38;5;241m.\u001b[39m_squared_fa, x\u001b[38;5;241m=\u001b[39m\u001b[38;5;28mself\u001b[39m\u001b[38;5;241m.\u001b[39m_freqs\n\u001b[1;32m    233\u001b[0m     )\n\u001b[1;32m    234\u001b[0m     \u001b[38;5;28mself\u001b[39m\u001b[38;5;241m.\u001b[39m_moments[num] \u001b[38;5;241m=\u001b[39m moment\n\u001b[1;32m    236\u001b[0m \u001b[38;5;28;01mreturn\u001b[39;00m moment\n",
            "File \u001b[0;32m~/.pyenv/versions/mambaforge/envs/py312/lib/python3.12/site-packages/numpy/__init__.py:333\u001b[0m, in \u001b[0;36m__getattr__\u001b[0;34m(attr)\u001b[0m\n\u001b[1;32m    330\u001b[0m     \u001b[38;5;124m\"\u001b[39m\u001b[38;5;124mRemoved in NumPy 1.25.0\u001b[39m\u001b[38;5;124m\"\u001b[39m\n\u001b[1;32m    331\u001b[0m     \u001b[38;5;28;01mraise\u001b[39;00m \u001b[38;5;167;01mRuntimeError\u001b[39;00m(\u001b[38;5;124m\"\u001b[39m\u001b[38;5;124mTester was removed in NumPy 1.25.\u001b[39m\u001b[38;5;124m\"\u001b[39m)\n\u001b[0;32m--> 333\u001b[0m \u001b[38;5;28;01mraise\u001b[39;00m \u001b[38;5;167;01mAttributeError\u001b[39;00m(\u001b[38;5;124m\"\u001b[39m\u001b[38;5;124mmodule \u001b[39m\u001b[38;5;132;01m{!r}\u001b[39;00m\u001b[38;5;124m has no attribute \u001b[39m\u001b[38;5;124m\"\u001b[39m\n\u001b[1;32m    334\u001b[0m                      \u001b[38;5;124m\"\u001b[39m\u001b[38;5;132;01m{!r}\u001b[39;00m\u001b[38;5;124m\"\u001b[39m\u001b[38;5;241m.\u001b[39mformat(\u001b[38;5;18m__name__\u001b[39m, attr))\n",
            "\u001b[0;31mAttributeError\u001b[0m: module 'numpy' has no attribute 'trapezoid'"
          ]
        },
        {
          "data": {
            "image/png": "[encoded data removed]",
            "text/plain": [
              "<Figure size 1200x720 with 2 Axes>"
            ]
          },
          "metadata": {},
          "output_type": "display_data"
        }
      ],
      "execution_count": null
    },
    {
      "metadata": {},
      "source": [],
      "cell_type": "code",
      "outputs": [],
      "execution_count": null
    }
  ]
}
